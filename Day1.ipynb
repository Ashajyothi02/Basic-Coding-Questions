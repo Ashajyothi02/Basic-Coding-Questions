{
 "cells": [
  {
   "cell_type": "markdown",
   "metadata": {},
   "source": [
    "Write a program that accepts the function count_selection_sort_swaps(arr: List[int]) -> int that takes a array of integers 'arr' as an argument and returns the number of swaps required to sort the list in ascending order using the selection sort algorithm.\n",
    "\n",
    "Note:The swap count should only increase when an actual swap occurs between two different elements.\n",
    "\n",
    "Example:\n",
    "\n",
    "Input1: arr = 64 25 12 22 11\n",
    "Output2: 3\n",
    "\n",
    "Explanation:\n",
    "Initial array: [64, 25, 12, 22, 11]\n",
    "1st swap: Swap 64 and 11 → [11, 25, 12, 22, 64]\n",
    "2nd swap: Swap 25 and 12 → [11, 12, 25, 22, 64]\n",
    "3rd swap: Swap 25 and 22 → [11, 12, 22, 25, 64]\n",
    "Total swaps: 3\n",
    "\n",
    "Input2: arr = 1 2 3 4 5\n",
    "Output2: 0\n",
    "\n",
    "Explanation:\n",
    "The array is already sorted, so no swaps are required."
   ]
  },
  {
   "cell_type": "code",
   "execution_count": 1,
   "metadata": {},
   "outputs": [
    {
     "name": "stdout",
     "output_type": "stream",
     "text": [
      "3\n"
     ]
    }
   ],
   "source": [
    "def count_selection_sort_swaps(arr):\n",
    "    n = len(arr)\n",
    "    swap_count = 0\n",
    "    for i in range(n):\n",
    "        min_index = i\n",
    "        for j in range(i + 1, n):\n",
    "            if arr[j] < arr[min_index]:\n",
    "                min_index = j\n",
    "        if min_index != i:\n",
    "            arr[i], arr[min_index] = arr[min_index], arr[i]\n",
    "            swap_count += 1\n",
    "    return swap_count\n",
    "\n",
    "arr = list(map(int, input().split()))\n",
    "print(count_selection_sort_swaps(arr))"
   ]
  },
  {
   "cell_type": "markdown",
   "metadata": {},
   "source": [
    "Problem Description :\n",
    "The function accepts two positive integers ‘r’ and ‘unit’ and a positive integer array ‘arr’ of size ‘n’ as its argument ‘r’ represents the number of rats present in an area, ‘unit’ is the amount of food each rat consumes and each ith element of array ‘arr’ represents the amount of food present in ‘i+1’ house number, where 0 <= i\n",
    "\n",
    "Note:\n",
    "Return -1 if the array is null\n",
    "Return 0 if the total amount of food from all houses is not sufficient for all the rats.\n",
    "Computed values lie within the integer range.\n",
    "Example:\n",
    "\n",
    "Input:\n",
    "r: 7\n",
    "unit: 2\n",
    "n: 8\n",
    "arr: 2 8 3 5 7 4 1 2\n",
    "\n",
    "Output:4\n",
    "\n",
    "Explanation:\n",
    "Total amount of food required for all rats = r * unit = 7 * 2 = 14.\n",
    "The amount of food in 1st houses = 2+8+3+5 = 18. Since, amount of food in 1st 4 houses is sufficient for all the rats. Thus, output is 4"
   ]
  },
  {
   "cell_type": "code",
   "execution_count": 2,
   "metadata": {},
   "outputs": [
    {
     "name": "stdout",
     "output_type": "stream",
     "text": [
      "4\n"
     ]
    }
   ],
   "source": [
    "def calculate (r, unit, arr, n):\n",
    "    if n == 0:\n",
    "        return -1   \n",
    "    food_required = r * unit \n",
    "    food_till_now = 0 \n",
    "    house = 0   \n",
    "    for house in range (n):\n",
    "        food_till_now += arr[house] \n",
    "        if food_till_now >= food_required:\n",
    "            break \n",
    "    if food_required > food_till_now:\n",
    "        return 0\n",
    "    return house + 1  \n",
    "r = int (input ())\n",
    "unit = int (input ())\n",
    "n = int (input ())\n",
    "arr = list (map (int, input ().split ()))\n",
    "print (calculate (r, unit, arr, n))"
   ]
  },
  {
   "cell_type": "markdown",
   "metadata": {},
   "source": [
    "Remove duplicates in given array"
   ]
  },
  {
   "cell_type": "code",
   "execution_count": 1,
   "metadata": {},
   "outputs": [
    {
     "name": "stdout",
     "output_type": "stream",
     "text": [
      "[5, 3, 2, 6, 1]\n"
     ]
    }
   ],
   "source": [
    "arr = list(map(int,input().split()))\n",
    "seen = []\n",
    "for i in arr:\n",
    "    if i not in seen:\n",
    "        seen.append(i)\n",
    "print(seen)"
   ]
  },
  {
   "cell_type": "code",
   "execution_count": 2,
   "metadata": {},
   "outputs": [
    {
     "name": "stdout",
     "output_type": "stream",
     "text": [
      "[3, 5, 2, 6, 1, 4]\n"
     ]
    }
   ],
   "source": [
    "def remove_duplicates(arr):\n",
    "    seen = []\n",
    "    for i in arr:\n",
    "        if i not in seen:\n",
    "            seen.append(i)\n",
    "    return seen\n",
    "arr = list(map(int,input().split()))\n",
    "print(remove_duplicates(arr))"
   ]
  },
  {
   "cell_type": "markdown",
   "metadata": {},
   "source": [
    "Find no of cards required to build a pyramid of level 3"
   ]
  },
  {
   "cell_type": "code",
   "execution_count": 8,
   "metadata": {},
   "outputs": [
    {
     "name": "stdout",
     "output_type": "stream",
     "text": [
      "15\n"
     ]
    }
   ],
   "source": [
    "def card_count(n):\n",
    "    count = 0\n",
    "    for i in range(1,n+1):\n",
    "        count += i*3\n",
    "    count -= n\n",
    "    return count\n",
    "n = int(input())\n",
    "print(card_count(n))"
   ]
  },
  {
   "cell_type": "code",
   "execution_count": 9,
   "metadata": {},
   "outputs": [
    {
     "name": "stdout",
     "output_type": "stream",
     "text": [
      "15\n"
     ]
    }
   ],
   "source": [
    "def card_count(n):\n",
    "    count = 0\n",
    "    level = 1\n",
    "    while(level <= n):\n",
    "        count += level*3\n",
    "        level += 1\n",
    "    count -= n\n",
    "    return count\n",
    "n = int(input())\n",
    "print(card_count(n))"
   ]
  },
  {
   "cell_type": "code",
   "execution_count": 12,
   "metadata": {},
   "outputs": [
    {
     "name": "stdout",
     "output_type": "stream",
     "text": [
      "15\n"
     ]
    }
   ],
   "source": [
    "sum = 0\n",
    "for i in range(1,n+1):\n",
    "    sum =  i+sum\n",
    "    result = (sum*3)-n\n",
    "print(result)"
   ]
  }
 ],
 "metadata": {
  "kernelspec": {
   "display_name": "Python 3",
   "language": "python",
   "name": "python3"
  },
  "language_info": {
   "codemirror_mode": {
    "name": "ipython",
    "version": 3
   },
   "file_extension": ".py",
   "mimetype": "text/x-python",
   "name": "python",
   "nbconvert_exporter": "python",
   "pygments_lexer": "ipython3",
   "version": "3.11.3"
  }
 },
 "nbformat": 4,
 "nbformat_minor": 2
}
