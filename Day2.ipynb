{
 "cells": [
  {
   "cell_type": "markdown",
   "metadata": {},
   "source": [
    "def differenceofSum(n, m): The function accepts two integers n, m as arguments Find the sum of all numbers in range from 1 to m(both inclusive) that are not divisible by n. Return difference between sum of integers not divisible by n with sum of numbers divisible by n.\n",
    "\n",
    "Assumption:\n",
    "n>0 and m>0\n",
    "Sum lies between integral range"
   ]
  },
  {
   "cell_type": "code",
   "execution_count": 1,
   "metadata": {},
   "outputs": [
    {
     "name": "stdout",
     "output_type": "stream",
     "text": [
      "90\n"
     ]
    }
   ],
   "source": [
    "def differenceofSum(n,m):\n",
    "    div = 0\n",
    "    ndiv =0\n",
    "    for i in range(1,m+1):\n",
    "        if(i%n == 0):\n",
    "            div+=i\n",
    "        else:\n",
    "            ndiv+=i\n",
    "    return ndiv - div\n",
    "n = int(input())\n",
    "m = int(input())\n",
    "print(differenceofSum(n,m))"
   ]
  },
  {
   "cell_type": "markdown",
   "metadata": {},
   "source": [
    "Right angle triangle pattern printing"
   ]
  },
  {
   "cell_type": "code",
   "execution_count": 7,
   "metadata": {},
   "outputs": [
    {
     "name": "stdout",
     "output_type": "stream",
     "text": [
      "*  \n",
      "* *  \n",
      "* * *  \n",
      "* * * *  \n",
      "* * * * *  \n"
     ]
    }
   ],
   "source": [
    "n = int(input())\n",
    "for i in range(n):\n",
    "    print('* '*(i+1), end=\" \")\n",
    "    print()"
   ]
  },
  {
   "cell_type": "markdown",
   "metadata": {},
   "source": [
    "Strong number: Sum of the factorials of each digit in a number is equal to that number"
   ]
  },
  {
   "cell_type": "code",
   "execution_count": 8,
   "metadata": {},
   "outputs": [
    {
     "name": "stdout",
     "output_type": "stream",
     "text": [
      "Strong number\n"
     ]
    }
   ],
   "source": [
    "def is_strong_number(n):\n",
    "    sum = 0\n",
    "    for digit in str(n):\n",
    "        sum += factorial(int(digit))\n",
    "    return sum == n\n",
    "\n",
    "def factorial(n):\n",
    "    if n == 0:\n",
    "        return 1\n",
    "    else:\n",
    "        return n * factorial(n-1)\n",
    "\n",
    "num = int(input())\n",
    "if is_strong_number(num):\n",
    "    print(\"Strong number\")\n",
    "else:\n",
    "    print(\"Not Strong number\")"
   ]
  },
  {
   "cell_type": "markdown",
   "metadata": {},
   "source": [
    "Problem Statement\n",
    "\n",
    "You are given a function,\n",
    "\n",
    "Void *ReplaceCharacter(Char str[], int n, char ch1, char ch2);\n",
    "\n",
    "The function accepts a string  ‘ str’ of length n and two characters ‘ch1’ and ‘ch2’ as its arguments . Implement the function to modify and return the string ‘ str’ in such a way that all occurrences of ‘ch1’ in original string are replaced by ‘ch2’ and all occurrences of ‘ch2’  in original string are replaced by ‘ch1’.\n",
    "\n",
    "Assumption: String Contains only lower-case alphabetical letters.\n",
    "\n",
    "Note:\n",
    "\n",
    "Return null if string is null.\n",
    "If both characters are not present in string or both of them are same , then return the string unchanged.\n",
    "Example:\n",
    "\n",
    "Input:\n",
    "Str: apples\n",
    "ch1:a\n",
    "ch2:p\n",
    "Output:\n",
    "paales\n",
    "Explanation:\n",
    "\n",
    "‘A’ in original string is replaced with ‘p’ and ‘p’ in original string is replaced with ‘a’, thus output is paales."
   ]
  },
  {
   "cell_type": "code",
   "execution_count": 9,
   "metadata": {},
   "outputs": [
    {
     "name": "stdout",
     "output_type": "stream",
     "text": [
      "paales\n"
     ]
    }
   ],
   "source": [
    "def ReplaceCharacter(str,ch1,ch2):\n",
    "    n = len(str)\n",
    "    if n==0:\n",
    "        return \"null\"\n",
    "    temp =\" \"\n",
    "    str = str.replace(ch1,temp )\n",
    "    str = str.replace(ch2, ch1)\n",
    "    str = str.replace(temp,ch2)\n",
    "    return str\n",
    "str = input()\n",
    "ch1 = input()\n",
    "ch2 = input()\n",
    "print(ReplaceCharacter(str,ch1,ch2))"
   ]
  }
 ],
 "metadata": {
  "kernelspec": {
   "display_name": "Python 3",
   "language": "python",
   "name": "python3"
  },
  "language_info": {
   "codemirror_mode": {
    "name": "ipython",
    "version": 3
   },
   "file_extension": ".py",
   "mimetype": "text/x-python",
   "name": "python",
   "nbconvert_exporter": "python",
   "pygments_lexer": "ipython3",
   "version": "3.11.3"
  }
 },
 "nbformat": 4,
 "nbformat_minor": 2
}
